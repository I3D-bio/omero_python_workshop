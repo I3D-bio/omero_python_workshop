{
 "cells": [
  {
   "cell_type": "code",
   "execution_count": 1,
   "id": "f98b0c78-e7b9-480e-9b24-3a72e317212c",
   "metadata": {},
   "outputs": [],
   "source": [
    "import ezomero as ez\n",
    "from getpass import getpass"
   ]
  },
  {
   "cell_type": "code",
   "execution_count": 3,
   "id": "a475cdf6-4be0-4624-bc59-a6f98fd07b22",
   "metadata": {},
   "outputs": [
    {
     "name": "stdin",
     "output_type": "stream",
     "text": [
      "Password for participant-a ········\n"
     ]
    }
   ],
   "source": [
    "USER = \"participant-a\"\n",
    "PWD = getpass(prompt=f\"Password for {USER}\")\n",
    "OMERO_GROUP = \"Workshop Metadata Annotation\"\n",
    "HOST = \"wss://omero-training.gerbi-gmb.de/omero-wss\"\n",
    "PORT = 443"
   ]
  },
  {
   "cell_type": "code",
   "execution_count": 20,
   "id": "b5ac3c87",
   "metadata": {},
   "outputs": [
    {
     "name": "stdout",
     "output_type": "stream",
     "text": [
      "Is connected: True\n"
     ]
    }
   ],
   "source": [
    "conn = ez.connect(USER, PWD, group=OMERO_GROUP, host=HOST, port=PORT, secure=True)\n",
    "print(f\"Is connected: {conn.isConnected()}\")"
   ]
  },
  {
   "cell_type": "markdown",
   "id": "b9a56bd1-b938-480c-af76-f45eb34daa57",
   "metadata": {},
   "source": [
    "# Getting an image object with omero-py"
   ]
  },
  {
   "cell_type": "code",
   "execution_count": 21,
   "id": "ad586a02-c3cc-4478-ad20-a202d9299860",
   "metadata": {},
   "outputs": [],
   "source": [
    "img_o = conn.getObject(\"Image\", 7352)"
   ]
  },
  {
   "cell_type": "code",
   "execution_count": 10,
   "id": "3cc4a38c-974f-40e2-a6a5-30c875c6cf69",
   "metadata": {},
   "outputs": [
    {
     "data": {
      "text/html": [
       "\n",
       "    <!DOCTYPE html>\n",
       "    <html lang=\"en\">\n",
       "    <head>\n",
       "        <meta charset=\"UTF-8\">\n",
       "        <meta name=\"viewport\" content=\"width=device-width, initial-scale=1.0\">\n",
       "        <title>Image Details</title>\n",
       "        <style>\n",
       "            img {\n",
       "                min-width: 250px; /* Set the minimum width for all images */\n",
       "                min-height: 250px; /* Set the minimum height for all images */\n",
       "            }\n",
       "            .align-top {\n",
       "            vertical-align: top;\n",
       "            }\n",
       "            .text-right {\n",
       "            text-align: right;\n",
       "            }\n",
       "        </style>\n",
       "    </head>\n",
       "    \n",
       "<body>\n",
       "\n",
       "    <table>\n",
       "    <tr>\n",
       "        <td><div class=\"thumbnail\">\n",
       "            <img src=\"data:image/jpeg;base64,/9j/4AAQSkZJRgABAgAAAQABAAD/2wBDAAUDBAQEAwUEBAQFBQUGBwwIBwcHBw8KCwkMEQ8SEhEPERATFhwXExQaFRARGCEYGhwdHx8fExciJCIeJBweHx7/2wBDAQUFBQcGBw4ICA4eFBEUHh4eHh4eHh4eHh4eHh4eHh4eHh4eHh4eHh4eHh4eHh4eHh4eHh4eHh4eHh4eHh4eHh7/wAARCABAAEADASIAAhEBAxEB/8QAHwAAAQUBAQEBAQEAAAAAAAAAAAECAwQFBgcICQoL/8QAtRAAAgEDAwIEAwUFBAQAAAF9AQIDAAQRBRIhMUEGE1FhByJxFDKBkaEII0KxwRVS0fAkM2JyggkKFhcYGRolJicoKSo0NTY3ODk6Q0RFRkdISUpTVFVWV1hZWmNkZWZnaGlqc3R1dnd4eXqDhIWGh4iJipKTlJWWl5iZmqKjpKWmp6ipqrKztLW2t7i5usLDxMXGx8jJytLT1NXW19jZ2uHi4+Tl5ufo6erx8vP09fb3+Pn6/8QAHwEAAwEBAQEBAQEBAQAAAAAAAAECAwQFBgcICQoL/8QAtREAAgECBAQDBAcFBAQAAQJ3AAECAxEEBSExBhJBUQdhcRMiMoEIFEKRobHBCSMzUvAVYnLRChYkNOEl8RcYGRomJygpKjU2Nzg5OkNERUZHSElKU1RVVldYWVpjZGVmZ2hpanN0dXZ3eHl6goOEhYaHiImKkpOUlZaXmJmaoqOkpaanqKmqsrO0tba3uLm6wsPExcbHyMnK0tPU1dbX2Nna4uPk5ebn6Onq8vP09fb3+Pn6/9oADAMBAAIRAxEAPwD48ooor2jEKKKKACiiigAooooAKKKKACiiimlcAooopNWAKKKKACiiigApx6U2irjJJCA0UUVLdwCiiikMKKKKACiiigAooooAKKKKAP/Z\" alt=\"Thumbnail\">\n",
       "        </div></td>\n",
       "        <td class=\"align-top\"><h2>Image information </h2>\n",
       "        \n",
       "    <table>\n",
       "        <tr><th></th><th>ID</th><th>Name</th></tr>\n",
       "        <tr>\n",
       "                <td><b>Image</b></td>\n",
       "                <td class=text-right>7352</td>\n",
       "                <td class=text-right>embryo06_stain.ome.tiff</td>\n",
       "                </tr>\n",
       "            \n",
       "        <tr>\n",
       "                <td><b>Dataset</b></td>\n",
       "                <td class=text-right>208</td>\n",
       "                <td class=text-right>z-stack</td>\n",
       "                </tr>\n",
       "            \n",
       "        <tr>\n",
       "                <td><b>Project</b></td>\n",
       "                <td class=text-right>29</td>\n",
       "                <td class=text-right>example_data</td>\n",
       "                </tr>\n",
       "            \n",
       "    </table>\n",
       "    \n",
       "        </td>\n",
       "    </tr>\n",
       "    </table>\n",
       "    <table>\n",
       "        <tr>\n",
       "            <td>\n",
       "    <table>\n",
       "\n",
       "        <tr>\n",
       "\n",
       "            <td><b>Dimensions (TCZYX): </b></td> <td class=text-right>(\n",
       "        1,\n",
       "        3,\n",
       "        251,\n",
       "        2048,\n",
       "        2048)</td>\n",
       "\n",
       "        </tr>\n",
       "\n",
       "        <tr>\n",
       "\n",
       "            <td><b>Voxel/Pixel dimensions (ZYX): </b></td> <td class=text-right>(na, na, na)</td>\n",
       "\n",
       "        </tr>\n",
       "\n",
       "        <tr>\n",
       "\n",
       "            <td><b>Physical units: </b></td> <td class=text-right>(na, na, na)</td>\n",
       "\n",
       "        </tr>\n",
       "\n",
       "        <tr>\n",
       "\n",
       "            <td><b>Channel Names: </b></td> <td class=text-right>['CENP-A', 'Lamin-B', 'DAPI']</td>\n",
       "\n",
       "        </tr>\n",
       "\n",
       "    </table>\n",
       "    </td>\n",
       "        </tr>\n",
       "    </table>\n",
       "    \n",
       "</body>\n",
       "</html>"
      ],
      "text/plain": [
       "<_ImageWrapper id=7352>"
      ]
     },
     "execution_count": 10,
     "metadata": {},
     "output_type": "execute_result"
    }
   ],
   "source": [
    "img_o"
   ]
  },
  {
   "cell_type": "markdown",
   "id": "a64d2b07-0e1a-4592-820f-f4a76ff84543",
   "metadata": {},
   "source": [
    "# Accessing image properties: img_o.get + TAB"
   ]
  },
  {
   "cell_type": "code",
   "execution_count": 23,
   "id": "45e85fd3-6727-4256-b2e8-ca0349f53473",
   "metadata": {},
   "outputs": [],
   "source": [
    "img_o.getParent()"
   ]
  },
  {
   "cell_type": "code",
   "execution_count": 27,
   "id": "a50f9bc2-7f3d-440f-9933-249735f2b131",
   "metadata": {},
   "outputs": [
    {
     "ename": "AttributeError",
     "evalue": "'DatasetI' object has no attribute 'getProject'",
     "output_type": "error",
     "traceback": [
      "\u001b[1;31m---------------------------------------------------------------------------\u001b[0m",
      "\u001b[1;31mAttributeError\u001b[0m                            Traceback (most recent call last)",
      "File \u001b[1;32m~\\AppData\\Roaming\\Python\\Python310\\site-packages\\IPython\\core\\formatters.py:342\u001b[0m, in \u001b[0;36mBaseFormatter.__call__\u001b[1;34m(self, obj)\u001b[0m\n\u001b[0;32m    340\u001b[0m     method \u001b[38;5;241m=\u001b[39m get_real_method(obj, \u001b[38;5;28mself\u001b[39m\u001b[38;5;241m.\u001b[39mprint_method)\n\u001b[0;32m    341\u001b[0m     \u001b[38;5;28;01mif\u001b[39;00m method \u001b[38;5;129;01mis\u001b[39;00m \u001b[38;5;129;01mnot\u001b[39;00m \u001b[38;5;28;01mNone\u001b[39;00m:\n\u001b[1;32m--> 342\u001b[0m         \u001b[38;5;28;01mreturn\u001b[39;00m \u001b[43mmethod\u001b[49m\u001b[43m(\u001b[49m\u001b[43m)\u001b[49m\n\u001b[0;32m    343\u001b[0m     \u001b[38;5;28;01mreturn\u001b[39;00m \u001b[38;5;28;01mNone\u001b[39;00m\n\u001b[0;32m    344\u001b[0m \u001b[38;5;28;01melse\u001b[39;00m:\n",
      "File \u001b[1;32m~\\miniforge-pypy3\\envs\\omero\\lib\\site-packages\\omero\\gateway\\__init__.py:253\u001b[0m, in \u001b[0;36mBlitzObjectWrapper._repr_html_\u001b[1;34m(self)\u001b[0m\n\u001b[0;32m    248\u001b[0m \u001b[38;5;28;01mdef\u001b[39;00m \u001b[38;5;21m_repr_html_\u001b[39m(\u001b[38;5;28mself\u001b[39m):\n\u001b[0;32m    249\u001b[0m     \u001b[38;5;124;03m\"\"\"\u001b[39;00m\n\u001b[0;32m    250\u001b[0m \u001b[38;5;124;03m    Returns an HTML representation of the object. This is used by the\u001b[39;00m\n\u001b[0;32m    251\u001b[0m \u001b[38;5;124;03m    IPython notebook to display the object in a cell.\u001b[39;00m\n\u001b[0;32m    252\u001b[0m \u001b[38;5;124;03m    \"\"\"\u001b[39;00m\n\u001b[1;32m--> 253\u001b[0m     \u001b[38;5;28;01mreturn\u001b[39;00m \u001b[43mimage_to_html\u001b[49m\u001b[43m(\u001b[49m\u001b[38;5;28;43mself\u001b[39;49m\u001b[43m)\u001b[49m\n",
      "File \u001b[1;32m~\\miniforge-pypy3\\envs\\omero\\lib\\site-packages\\omero\\gateway\\utils.py:271\u001b[0m, in \u001b[0;36mimage_to_html\u001b[1;34m(image)\u001b[0m\n\u001b[0;32m    258\u001b[0m     \u001b[38;5;28;01mreturn\u001b[39;00m \u001b[38;5;124mf\u001b[39m\u001b[38;5;124m\"\"\"\u001b[39m\u001b[38;5;124m<tr>\u001b[39m\n\u001b[0;32m    259\u001b[0m \u001b[38;5;124m            <td><b>\u001b[39m\u001b[38;5;132;01m{\u001b[39;00motype\u001b[38;5;132;01m}\u001b[39;00m\u001b[38;5;124m</b></td>\u001b[39m\n\u001b[0;32m    260\u001b[0m \u001b[38;5;124m            <td class=text-right>\u001b[39m\u001b[38;5;132;01m{\u001b[39;00mobj\u001b[38;5;241m.\u001b[39mid \u001b[38;5;28;01mif\u001b[39;00m obj \u001b[38;5;28;01melse\u001b[39;00m \u001b[38;5;124m\"\u001b[39m\u001b[38;5;124m\"\u001b[39m\u001b[38;5;132;01m}\u001b[39;00m\u001b[38;5;124m</td>\u001b[39m\n\u001b[0;32m    261\u001b[0m \u001b[38;5;124m            <td class=text-right>\u001b[39m\u001b[38;5;132;01m{\u001b[39;00mobj\u001b[38;5;241m.\u001b[39mname \u001b[38;5;28;01mif\u001b[39;00m obj \u001b[38;5;28;01melse\u001b[39;00m \u001b[38;5;124m\"\u001b[39m\u001b[38;5;124m\"\u001b[39m\u001b[38;5;132;01m}\u001b[39;00m\u001b[38;5;124m</td>\u001b[39m\n\u001b[0;32m    262\u001b[0m \u001b[38;5;124m            </tr>\u001b[39m\n\u001b[0;32m    263\u001b[0m \u001b[38;5;124m        \u001b[39m\u001b[38;5;124m\"\"\"\u001b[39m\n\u001b[0;32m    265\u001b[0m \u001b[38;5;66;03m# create a sub-table for image information\u001b[39;00m\n\u001b[0;32m    266\u001b[0m table_imageinfo \u001b[38;5;241m=\u001b[39m \u001b[38;5;124mf\u001b[39m\u001b[38;5;124m\"\"\"\u001b[39m\n\u001b[0;32m    267\u001b[0m \u001b[38;5;124m<table>\u001b[39m\n\u001b[0;32m    268\u001b[0m \u001b[38;5;124m    <tr><th></th><th>ID</th><th>Name</th></tr>\u001b[39m\n\u001b[0;32m    269\u001b[0m \u001b[38;5;124m    \u001b[39m\u001b[38;5;132;01m{\u001b[39;00mobj_html(image, \u001b[38;5;124m'\u001b[39m\u001b[38;5;124mImage\u001b[39m\u001b[38;5;124m'\u001b[39m)\u001b[38;5;132;01m}\u001b[39;00m\n\u001b[0;32m    270\u001b[0m \u001b[38;5;124m    \u001b[39m\u001b[38;5;132;01m{\u001b[39;00mobj_html(image\u001b[38;5;241m.\u001b[39mgetParent(), \u001b[38;5;124m'\u001b[39m\u001b[38;5;124mDataset\u001b[39m\u001b[38;5;124m'\u001b[39m)\u001b[38;5;132;01m}\u001b[39;00m\n\u001b[1;32m--> 271\u001b[0m \u001b[38;5;124m    \u001b[39m\u001b[38;5;132;01m{\u001b[39;00mobj_html(\u001b[43mimage\u001b[49m\u001b[38;5;241;43m.\u001b[39;49m\u001b[43mgetProject\u001b[49m(), \u001b[38;5;124m'\u001b[39m\u001b[38;5;124mProject\u001b[39m\u001b[38;5;124m'\u001b[39m)\u001b[38;5;132;01m}\u001b[39;00m\n\u001b[0;32m    272\u001b[0m \u001b[38;5;124m</table>\u001b[39m\n\u001b[0;32m    273\u001b[0m \u001b[38;5;124m\u001b[39m\u001b[38;5;124m\"\"\"\u001b[39m\n\u001b[0;32m    275\u001b[0m \u001b[38;5;66;03m# get entries for thumbnail and dimensions\u001b[39;00m\n\u001b[0;32m    276\u001b[0m encoded_image \u001b[38;5;241m=\u001b[39m base64\u001b[38;5;241m.\u001b[39mb64encode(image\u001b[38;5;241m.\u001b[39mgetThumbnail())\u001b[38;5;241m.\u001b[39mdecode(\u001b[38;5;124m'\u001b[39m\u001b[38;5;124mutf-8\u001b[39m\u001b[38;5;124m'\u001b[39m)\n",
      "File \u001b[1;32m~\\miniforge-pypy3\\envs\\omero\\lib\\site-packages\\omero\\gateway\\__init__.py:1311\u001b[0m, in \u001b[0;36mBlitzObjectWrapper.__getattr__\u001b[1;34m(self, attr)\u001b[0m\n\u001b[0;32m   1309\u001b[0m                     \u001b[38;5;28;01mpass\u001b[39;00m\n\u001b[0;32m   1310\u001b[0m     \u001b[38;5;28;01mreturn\u001b[39;00m rv\n\u001b[1;32m-> 1311\u001b[0m \u001b[38;5;28;01mraise\u001b[39;00m \u001b[38;5;167;01mAttributeError\u001b[39;00m(\n\u001b[0;32m   1312\u001b[0m     \u001b[38;5;124m\"\u001b[39m\u001b[38;5;124m'\u001b[39m\u001b[38;5;132;01m%s\u001b[39;00m\u001b[38;5;124m'\u001b[39m\u001b[38;5;124m object has no attribute \u001b[39m\u001b[38;5;124m'\u001b[39m\u001b[38;5;132;01m%s\u001b[39;00m\u001b[38;5;124m'\u001b[39m\u001b[38;5;124m\"\u001b[39m\n\u001b[0;32m   1313\u001b[0m     \u001b[38;5;241m%\u001b[39m (\u001b[38;5;28mself\u001b[39m\u001b[38;5;241m.\u001b[39m_obj\u001b[38;5;241m.\u001b[39m\u001b[38;5;18m__class__\u001b[39m\u001b[38;5;241m.\u001b[39m\u001b[38;5;18m__name__\u001b[39m, attr))\n",
      "\u001b[1;31mAttributeError\u001b[0m: 'DatasetI' object has no attribute 'getProject'"
     ]
    },
    {
     "data": {
      "text/plain": [
       "<_DatasetWrapper id=208>"
      ]
     },
     "execution_count": 27,
     "metadata": {},
     "output_type": "execute_result"
    }
   ],
   "source": [
    "res"
   ]
  },
  {
   "cell_type": "markdown",
   "id": "99dd0379-5ae2-4a39-a51b-bfded4261c4b",
   "metadata": {},
   "source": [
    "https://omero.readthedocs.io/en/stable/developers/Model/EveryObject.html#omero-model-class-image"
   ]
  }
 ],
 "metadata": {
  "kernelspec": {
   "display_name": "Python 3 (ipykernel)",
   "language": "python",
   "name": "python3"
  },
  "language_info": {
   "codemirror_mode": {
    "name": "ipython",
    "version": 3
   },
   "file_extension": ".py",
   "mimetype": "text/x-python",
   "name": "python",
   "nbconvert_exporter": "python",
   "pygments_lexer": "ipython3",
   "version": "3.10.8"
  }
 },
 "nbformat": 4,
 "nbformat_minor": 5
}
