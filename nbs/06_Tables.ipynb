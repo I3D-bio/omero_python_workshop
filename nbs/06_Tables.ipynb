{
 "cells": [
  {
   "cell_type": "code",
   "execution_count": 4,
   "id": "4d9082f7-18d7-4dd1-a89e-56fb0dea6bca",
   "metadata": {},
   "outputs": [
    {
     "name": "stdout",
     "output_type": "stream",
     "text": [
      "Requirement already satisfied: pandas in c:\\users\\thinkpad_ryzen7\\miniforge-pypy3\\envs\\omero\\lib\\site-packages (2.2.3)\n",
      "Collecting omero2pandas\n",
      "  Downloading omero2pandas-0.3.0-py3-none-any.whl.metadata (10 kB)\n",
      "Requirement already satisfied: numpy>=1.22.4 in c:\\users\\thinkpad_ryzen7\\miniforge-pypy3\\envs\\omero\\lib\\site-packages (from pandas) (1.26.4)\n",
      "Requirement already satisfied: python-dateutil>=2.8.2 in c:\\users\\thinkpad_ryzen7\\appdata\\roaming\\python\\python310\\site-packages (from pandas) (2.8.2)\n",
      "Requirement already satisfied: pytz>=2020.1 in c:\\users\\thinkpad_ryzen7\\miniforge-pypy3\\envs\\omero\\lib\\site-packages (from pandas) (2024.2)\n",
      "Requirement already satisfied: tzdata>=2022.7 in c:\\users\\thinkpad_ryzen7\\miniforge-pypy3\\envs\\omero\\lib\\site-packages (from pandas) (2024.2)\n",
      "Requirement already satisfied: omero-py in c:\\users\\thinkpad_ryzen7\\miniforge-pypy3\\envs\\omero\\lib\\site-packages (from omero2pandas) (5.19.4)\n",
      "Collecting tqdm (from omero2pandas)\n",
      "  Downloading tqdm-4.67.0-py3-none-any.whl.metadata (57 kB)\n",
      "Requirement already satisfied: six>=1.5 in c:\\users\\thinkpad_ryzen7\\appdata\\roaming\\python\\python310\\site-packages (from python-dateutil>=2.8.2->pandas) (1.16.0)\n",
      "Requirement already satisfied: urllib3<2 in c:\\users\\thinkpad_ryzen7\\miniforge-pypy3\\envs\\omero\\lib\\site-packages (from omero-py->omero2pandas) (1.26.19)\n",
      "Requirement already satisfied: appdirs in c:\\users\\thinkpad_ryzen7\\miniforge-pypy3\\envs\\omero\\lib\\site-packages (from omero-py->omero2pandas) (1.4.4)\n",
      "Requirement already satisfied: future in c:\\users\\thinkpad_ryzen7\\miniforge-pypy3\\envs\\omero\\lib\\site-packages (from omero-py->omero2pandas) (1.0.0)\n",
      "Requirement already satisfied: Pillow>=10.0.0 in c:\\users\\thinkpad_ryzen7\\miniforge-pypy3\\envs\\omero\\lib\\site-packages (from omero-py->omero2pandas) (11.0.0)\n",
      "Requirement already satisfied: PyYAML in c:\\users\\thinkpad_ryzen7\\miniforge-pypy3\\envs\\omero\\lib\\site-packages (from omero-py->omero2pandas) (6.0.2)\n",
      "Requirement already satisfied: zeroc-ice<3.7,>=3.6.5 in c:\\users\\thinkpad_ryzen7\\miniforge-pypy3\\envs\\omero\\lib\\site-packages (from omero-py->omero2pandas) (3.6.5)\n",
      "Requirement already satisfied: requests in c:\\users\\thinkpad_ryzen7\\miniforge-pypy3\\envs\\omero\\lib\\site-packages (from omero-py->omero2pandas) (2.32.3)\n",
      "Requirement already satisfied: portalocker in c:\\users\\thinkpad_ryzen7\\miniforge-pypy3\\envs\\omero\\lib\\site-packages (from omero-py->omero2pandas) (2.10.1)\n",
      "Requirement already satisfied: pywin32 in c:\\users\\thinkpad_ryzen7\\miniforge-pypy3\\envs\\omero\\lib\\site-packages (from omero-py->omero2pandas) (307)\n",
      "Requirement already satisfied: colorama in c:\\users\\thinkpad_ryzen7\\miniforge-pypy3\\envs\\omero\\lib\\site-packages (from tqdm->omero2pandas) (0.4.6)\n",
      "Requirement already satisfied: charset-normalizer<4,>=2 in c:\\users\\thinkpad_ryzen7\\miniforge-pypy3\\envs\\omero\\lib\\site-packages (from requests->omero-py->omero2pandas) (3.4.0)\n",
      "Requirement already satisfied: idna<4,>=2.5 in c:\\users\\thinkpad_ryzen7\\miniforge-pypy3\\envs\\omero\\lib\\site-packages (from requests->omero-py->omero2pandas) (3.10)\n",
      "Requirement already satisfied: certifi>=2017.4.17 in c:\\users\\thinkpad_ryzen7\\miniforge-pypy3\\envs\\omero\\lib\\site-packages (from requests->omero-py->omero2pandas) (2024.8.30)\n",
      "Downloading omero2pandas-0.3.0-py3-none-any.whl (28 kB)\n",
      "Downloading tqdm-4.67.0-py3-none-any.whl (78 kB)\n",
      "Installing collected packages: tqdm, omero2pandas\n",
      "Successfully installed omero2pandas-0.3.0 tqdm-4.67.0\n"
     ]
    }
   ],
   "source": [
    "!pip install pandas omero2pandas"
   ]
  },
  {
   "cell_type": "code",
   "execution_count": 1,
   "id": "5d177d88-151d-4ecc-8cb2-def0d802aa55",
   "metadata": {},
   "outputs": [],
   "source": [
    "import ezomero as ez\n",
    "import omero\n",
    "from omero.rtypes import rstring, unwrap\n",
    "from getpass import getpass\n",
    "import numpy as np"
   ]
  },
  {
   "cell_type": "code",
   "execution_count": 2,
   "id": "b003a32f-2c3d-4442-88d2-90fac8c15200",
   "metadata": {},
   "outputs": [
    {
     "name": "stdin",
     "output_type": "stream",
     "text": [
      "Password for participant-a ········\n"
     ]
    }
   ],
   "source": [
    "USER = \"participant-a\"\n",
    "PWD = getpass(prompt=f\"Password for {USER}\")\n",
    "OMERO_GROUP = \"Workshop Metadata Annotation\"\n",
    "HOST = \"wss://omero-training.gerbi-gmb.de/omero-wss\"\n",
    "PORT = 443"
   ]
  },
  {
   "cell_type": "code",
   "execution_count": null,
   "id": "8fc33a95-6ea2-4b5d-aa24-84d9b9ce2d69",
   "metadata": {},
   "outputs": [],
   "source": []
  }
 ],
 "metadata": {
  "kernelspec": {
   "display_name": "Python 3 (ipykernel)",
   "language": "python",
   "name": "python3"
  },
  "language_info": {
   "codemirror_mode": {
    "name": "ipython",
    "version": 3
   },
   "file_extension": ".py",
   "mimetype": "text/x-python",
   "name": "python",
   "nbconvert_exporter": "python",
   "pygments_lexer": "ipython3",
   "version": "3.10.8"
  }
 },
 "nbformat": 4,
 "nbformat_minor": 5
}
