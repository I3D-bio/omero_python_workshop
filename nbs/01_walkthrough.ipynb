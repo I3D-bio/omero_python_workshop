{
 "cells": [
  {
   "cell_type": "markdown",
   "id": "76fc0503",
   "metadata": {},
   "source": [
    "# Forewords\n",
    "\n",
    "I am heavily relying on shortcuts in Jupyter\n",
    "\n",
    "Requires to be out of focus of a \"cell\" -> `Escape`:\n",
    "* Add cell above: `a`\n",
    "* Add cell bellow: `b`\n",
    "* Delete cell: `x`\n",
    "* Show help: `h`\n",
    "\n",
    "Within a code cell -> `Enter`:\n",
    "* Autocomplete code: `Tab`\n",
    "* Show tooltip: `Shift` + `Tab`\n",
    "* Execute cell: `Ctrl` + `Enter`\n",
    "* Execute cell and move to next: `Ctrl` + `Shift`"
   ]
  },
  {
   "cell_type": "markdown",
   "id": "9ffc6a9f",
   "metadata": {},
   "source": [
    "# 1 - Connecting to OMERO "
   ]
  },
  {
   "cell_type": "code",
   "execution_count": 1,
   "id": "8ff67727",
   "metadata": {},
   "outputs": [],
   "source": [
    "import ezomero as ez\n",
    "from getpass import getpass"
   ]
  },
  {
   "cell_type": "code",
   "execution_count": 2,
   "id": "192eae2f",
   "metadata": {},
   "outputs": [
    {
     "name": "stdin",
     "output_type": "stream",
     "text": [
      "Password for participant-a ········\n"
     ]
    }
   ],
   "source": [
    "USER = \"participant-a\"\n",
    "PWD = getpass(prompt=f\"Password for {USER}\")\n",
    "OMERO_GROUP = \"Workshop Metadata Annotation\""
   ]
  },
  {
   "cell_type": "markdown",
   "id": "2074c15f",
   "metadata": {},
   "source": [
    "### Default port (4064) -> can be blocked by your university firewall"
   ]
  },
  {
   "cell_type": "code",
   "execution_count": 25,
   "id": "3906747d",
   "metadata": {},
   "outputs": [],
   "source": [
    "HOST = \"omero-training.gerbi-gmb.de\"\n",
    "PORT = 4064"
   ]
  },
  {
   "cell_type": "markdown",
   "id": "8ef4fd32",
   "metadata": {},
   "source": [
    "### Websocket port (uses instead HTTPS port)"
   ]
  },
  {
   "cell_type": "code",
   "execution_count": 3,
   "id": "b5ac3c87",
   "metadata": {},
   "outputs": [],
   "source": [
    "HOST = \"wss://omero-training.gerbi-gmb.de/omero-wss\"\n",
    "PORT = 443"
   ]
  },
  {
   "cell_type": "code",
   "execution_count": 4,
   "id": "e2901e32",
   "metadata": {},
   "outputs": [
    {
     "name": "stdout",
     "output_type": "stream",
     "text": [
      "Is connected: True\n"
     ]
    }
   ],
   "source": [
    "conn = ez.connect(USER, PWD, group=OMERO_GROUP, host=HOST, port=PORT, secure=True)\n",
    "print(f\"Is connected: {conn.isConnected()}\")"
   ]
  },
  {
   "cell_type": "markdown",
   "id": "62e565af-e8be-438c-908b-0a9c1290a3b4",
   "metadata": {},
   "source": [
    "# 2 - List content with ezomero"
   ]
  },
  {
   "cell_type": "code",
   "execution_count": 7,
   "id": "6f235f85-b4c2-4945-a848-d6cbacf8577b",
   "metadata": {},
   "outputs": [
    {
     "data": {
      "text/plain": [
       "[3741, 3742]"
      ]
     },
     "execution_count": 7,
     "metadata": {},
     "output_type": "execute_result"
    }
   ],
   "source": [
    "# datasets in the project with id:138\n",
    "ez.get_dataset_ids(conn, project=138)"
   ]
  },
  {
   "cell_type": "code",
   "execution_count": 8,
   "id": "ad1ccaf5-3e73-48a1-98d0-d4b96166341e",
   "metadata": {
    "scrolled": true
   },
   "outputs": [
    {
     "data": {
      "text/plain": [
       "[10897,\n",
       " 11046,\n",
       " 10925,\n",
       " 11053,\n",
       " 10968,\n",
       " 10878,\n",
       " 11010,\n",
       " 11042,\n",
       " 10937,\n",
       " 10899,\n",
       " 10861,\n",
       " 10913,\n",
       " 10896,\n",
       " 10840,\n",
       " 10893,\n",
       " 10950,\n",
       " 10873,\n",
       " 10962,\n",
       " 11021,\n",
       " 10978,\n",
       " 10849,\n",
       " 11016,\n",
       " 10822,\n",
       " 10989,\n",
       " 10841,\n",
       " 10939,\n",
       " 10995,\n",
       " 10892,\n",
       " 10824,\n",
       " 10926,\n",
       " 10955,\n",
       " 10883,\n",
       " 11048,\n",
       " 11043,\n",
       " 10912,\n",
       " 10931,\n",
       " 10898,\n",
       " 10952,\n",
       " 10839,\n",
       " 11051,\n",
       " 10923,\n",
       " 10984,\n",
       " 11058,\n",
       " 10940,\n",
       " 10887,\n",
       " 10834,\n",
       " 10879,\n",
       " 10910,\n",
       " 10929,\n",
       " 11017,\n",
       " 10953,\n",
       " 11000,\n",
       " 10921,\n",
       " 10869,\n",
       " 10919,\n",
       " 10845,\n",
       " 10947,\n",
       " 10889,\n",
       " 10909,\n",
       " 11024,\n",
       " 10902,\n",
       " 10828,\n",
       " 10864,\n",
       " 10875,\n",
       " 11036,\n",
       " 10967,\n",
       " 10829,\n",
       " 10832,\n",
       " 10935,\n",
       " 10990,\n",
       " 10974,\n",
       " 10930,\n",
       " 10880,\n",
       " 10956,\n",
       " 11035,\n",
       " 10885,\n",
       " 11050,\n",
       " 10961,\n",
       " 11002,\n",
       " 11027,\n",
       " 11056,\n",
       " 10908,\n",
       " 10965,\n",
       " 10996,\n",
       " 10999,\n",
       " 10977,\n",
       " 10970,\n",
       " 11018,\n",
       " 10826,\n",
       " 11049,\n",
       " 11019,\n",
       " 10964,\n",
       " 11025,\n",
       " 11009,\n",
       " 10976,\n",
       " 10853,\n",
       " 10981,\n",
       " 10872,\n",
       " 10916,\n",
       " 11008,\n",
       " 11031,\n",
       " 10994,\n",
       " 10866,\n",
       " 10988,\n",
       " 11012,\n",
       " 10973,\n",
       " 10915,\n",
       " 10857,\n",
       " 10957,\n",
       " 10979,\n",
       " 10855,\n",
       " 10986,\n",
       " 10827,\n",
       " 11014,\n",
       " 10850,\n",
       " 11045,\n",
       " 11030,\n",
       " 10884,\n",
       " 10982,\n",
       " 10860]"
      ]
     },
     "execution_count": 8,
     "metadata": {},
     "output_type": "execute_result"
    }
   ],
   "source": [
    "# images in the dataset with id:3741\n",
    "ez.get_image_ids(conn, dataset=3741)"
   ]
  },
  {
   "cell_type": "code",
   "execution_count": 9,
   "id": "67e85670-fc8d-439f-aa35-831ab8b55a3b",
   "metadata": {},
   "outputs": [
    {
     "data": {
      "text/plain": [
       "[3951, 3954, 3962, 3971]"
      ]
     },
     "execution_count": 9,
     "metadata": {},
     "output_type": "execute_result"
    }
   ],
   "source": [
    "# datasets annotated with tag id:7522\n",
    "ez.get_dataset_ids(conn, annotation=7522)"
   ]
  },
  {
   "cell_type": "code",
   "execution_count": 10,
   "id": "dca97594-e5e4-432f-a948-62ab66a58c49",
   "metadata": {},
   "outputs": [
    {
     "name": "stdout",
     "output_type": "stream",
     "text": [
      "Dataset: 3951\tImage: 27887\n",
      "Dataset: 3951\tImage: 27760\n",
      "Dataset: 3951\tImage: 27846\n",
      "Dataset: 3951\tImage: 27724\n",
      "Dataset: 3954\tImage: 27783\n",
      "Dataset: 3954\tImage: 27785\n",
      "Dataset: 3954\tImage: 27770\n",
      "Dataset: 3954\tImage: 27738\n",
      "Dataset: 3962\tImage: 27797\n",
      "Dataset: 3962\tImage: 27871\n",
      "Dataset: 3962\tImage: 27658\n",
      "Dataset: 3962\tImage: 27701\n",
      "Dataset: 3971\tImage: 27684\n",
      "Dataset: 3971\tImage: 27832\n",
      "Dataset: 3971\tImage: 27685\n",
      "Dataset: 3971\tImage: 27776\n"
     ]
    }
   ],
   "source": [
    "# Iterate on images in datasets annotated with tag id 7522\n",
    "for dataset_id in ez.get_dataset_ids(conn, annotation=7522):\n",
    "    for image_id in ez.get_image_ids(conn, dataset=dataset_id):\n",
    "        print(f\"Dataset: {dataset_id}\\tImage: {image_id}\")"
   ]
  },
  {
   "cell_type": "code",
   "execution_count": null,
   "id": "5679cf47-7c54-4e5e-8c9b-3563b77957c0",
   "metadata": {},
   "outputs": [],
   "source": []
  }
 ],
 "metadata": {
  "kernelspec": {
   "display_name": "omero",
   "language": "python",
   "name": "omero"
  },
  "language_info": {
   "codemirror_mode": {
    "name": "ipython",
    "version": 3
   },
   "file_extension": ".py",
   "mimetype": "text/x-python",
   "name": "python",
   "nbconvert_exporter": "python",
   "pygments_lexer": "ipython3",
   "version": "3.10.8"
  }
 },
 "nbformat": 4,
 "nbformat_minor": 5
}
